{
 "cells": [
  {
   "cell_type": "code",
   "execution_count": 2,
   "id": "c21b0fcb",
   "metadata": {},
   "outputs": [],
   "source": [
    "import pandas as pd\n",
    "from nba_api.stats.endpoints import leaguedashteamstats\n",
    "import time # need intervals when web scraping"
   ]
  },
  {
   "cell_type": "code",
   "execution_count": 3,
   "id": "f789fd5f",
   "metadata": {},
   "outputs": [],
   "source": [
    "all_seasons = [] # will be iteratively appended to\n",
    "for year in range(1980, 2025):\n",
    "    season_str = f\"{year}-{str(year + 1)[2:]}\" # seasons in api are formatted '1980-81' and so on\n",
    "    all_seasons.append(season_str)"
   ]
  },
  {
   "cell_type": "code",
   "execution_count": null,
   "id": "10eb4e74",
   "metadata": {},
   "outputs": [
    {
     "name": "stdout",
     "output_type": "stream",
     "text": [
      "Retrieving for 1980-81\n",
      "Retrieving for 1981-82\n",
      "Retrieving for 1982-83\n",
      "Retrieving for 1983-84\n",
      "Retrieving for 1984-85\n",
      "Retrieving for 1985-86\n",
      "Retrieving for 1986-87\n",
      "Retrieving for 1987-88\n",
      "Retrieving for 1988-89\n",
      "Retrieving for 1989-90\n",
      "Retrieving for 1990-91\n",
      "Retrieving for 1991-92\n",
      "Retrieving for 1992-93\n",
      "Retrieving for 1993-94\n",
      "Retrieving for 1994-95\n",
      "Retrieving for 1995-96\n",
      "Retrieving for 1996-97\n",
      "Retrieving for 1997-98\n",
      "Retrieving for 1998-99\n",
      "Retrieving for 1999-00\n",
      "Retrieving for 2000-01\n",
      "Retrieving for 2001-02\n",
      "Retrieving for 2002-03\n",
      "Retrieving for 2003-04\n",
      "Retrieving for 2004-05\n",
      "Retrieving for 2005-06\n",
      "Retrieving for 2006-07\n",
      "Retrieving for 2007-08\n",
      "Retrieving for 2008-09\n",
      "Retrieving for 2009-10\n",
      "Retrieving for 2010-11\n",
      "Retrieving for 2011-12\n",
      "Retrieving for 2012-13\n",
      "Retrieving for 2013-14\n",
      "Retrieving for 2014-15\n",
      "Retrieving for 2015-16\n",
      "Retrieving for 2016-17\n",
      "Retrieving for 2017-18\n",
      "Retrieving for 2018-19\n",
      "Retrieving for 2019-20\n",
      "Retrieving for 2020-21\n",
      "Retrieving for 2021-22\n",
      "Retrieving for 2022-23\n",
      "Retrieving for 2023-24\n",
      "Retrieving for 2024-25\n"
     ]
    }
   ],
   "source": [
    "all_stats = []\n",
    "for season in all_seasons:\n",
    "    print(f\"Retrieving for {season}\")\n",
    "    try:\n",
    "        data = leaguedashteamstats.LeagueDashTeamStats(\n",
    "            season = season,\n",
    "            per_mode_detailed = \"PerGame\",\n",
    "            season_type_all_star = \"Regular Season\",\n",
    "            league_id_nullable = \"00\", # id for nba\n",
    "            timeout = 60 # default of 30 had some timeout errors\n",
    "        ).get_data_frames()\n",
    "        df = data[0]\n",
    "        df['SEASON'] = season\n",
    "        all_stats.append(df)\n",
    "        time.sleep(.80) # prevent stressing server, just under 40 second runtime for me\n",
    "    except Exception as e:\n",
    "        print(f\"Error during season {season}: {e}\")\n",
    "        time.sleep(5) # avoid rate limit"
   ]
  },
  {
   "cell_type": "code",
   "execution_count": 5,
   "id": "5fa38f50",
   "metadata": {},
   "outputs": [
    {
     "name": "stderr",
     "output_type": "stream",
     "text": [
      "C:\\Users\\Nathan\\AppData\\Local\\Temp\\ipykernel_26272\\287529542.py:1: FutureWarning: The behavior of DataFrame concatenation with empty or all-NA entries is deprecated. In a future version, this will no longer exclude empty or all-NA columns when determining the result dtypes. To retain the old behavior, exclude the relevant entries before the concat operation.\n",
      "  nba_df = pd.concat(all_stats, ignore_index = True)\n"
     ]
    }
   ],
   "source": [
    "nba_df = pd.concat(all_stats, ignore_index = True)\n",
    "nba_df = nba_df[['SEASON'] + [column for column in nba_df if column != 'SEASON']] # put season first\n",
    "nba_df.to_csv(\"all_team_stats_1980-2025.csv\")"
   ]
  }
 ],
 "metadata": {
  "kernelspec": {
   "display_name": "Python 3",
   "language": "python",
   "name": "python3"
  },
  "language_info": {
   "codemirror_mode": {
    "name": "ipython",
    "version": 3
   },
   "file_extension": ".py",
   "mimetype": "text/x-python",
   "name": "python",
   "nbconvert_exporter": "python",
   "pygments_lexer": "ipython3",
   "version": "3.13.8"
  }
 },
 "nbformat": 4,
 "nbformat_minor": 5
}
