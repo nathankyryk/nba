{
 "cells": [
  {
   "cell_type": "code",
   "execution_count": 1,
   "id": "ea51079c",
   "metadata": {},
   "outputs": [],
   "source": [
    "import pandas as pd"
   ]
  },
  {
   "cell_type": "markdown",
   "id": "53434627",
   "metadata": {},
   "source": [
    "player data"
   ]
  },
  {
   "cell_type": "code",
   "execution_count": 2,
   "id": "b3a6a56a",
   "metadata": {},
   "outputs": [],
   "source": [
    "ps_df = pd.read_csv('all_player_stats_1996-2025.csv')"
   ]
  },
  {
   "cell_type": "code",
   "execution_count": null,
   "id": "aa26f922",
   "metadata": {},
   "outputs": [],
   "source": [
    "def height_to_inches(height): # convert heights to inches, easier to work with\n",
    "    if pd.isna(height):\n",
    "        return None\n",
    "    else:\n",
    "        feet, inches = map(int, height.split('-'))\n",
    "        return feet * 12 + inches"
   ]
  },
  {
   "cell_type": "code",
   "execution_count": 4,
   "id": "57a1763a",
   "metadata": {},
   "outputs": [],
   "source": [
    "ps_df['HEIGHT_INCHES'] = ps_df['HEIGHT'].apply(height_to_inches)\n",
    "ps_df['HEIGHT_INCHES'] = ps_df['HEIGHT_INCHES'].fillna(ps_df.groupby('POSITION')['HEIGHT_INCHES'].transform('mean').round(0))"
   ]
  },
  {
   "cell_type": "code",
   "execution_count": 5,
   "id": "9d813cca",
   "metadata": {},
   "outputs": [],
   "source": [
    "ps_df['WEIGHT'] = ps_df['WEIGHT'].fillna(ps_df.groupby('POSITION')['WEIGHT'].transform('mean').round(0))"
   ]
  },
  {
   "cell_type": "code",
   "execution_count": 8,
   "id": "30de9be6",
   "metadata": {},
   "outputs": [],
   "source": [
    "ps_df = ps_df.dropna(subset = ['POSITION', 'HEIGHT_INCHES', 'WEIGHT'])"
   ]
  },
  {
   "cell_type": "code",
   "execution_count": null,
   "id": "c0a894cf",
   "metadata": {},
   "outputs": [],
   "source": [
    "ps_df2 = ps_df[['SEASON', 'PLAYER_ID', 'PLAYER_NAME', 'TEAM_ID', 'TEAM_ABBREVIATION', 'AGE', 'POSITION', 'HEIGHT_INCHES', 'WEIGHT', 'MIN', 'FGM', 'FGA', 'FG_PCT', 'FG3M', 'FG3A', 'FG3_PCT', 'FTM', 'FTA', 'FT_PCT', 'REB', 'AST', 'STL', 'BLK']].copy()"
   ]
  },
  {
   "cell_type": "code",
   "execution_count": 15,
   "id": "2bc2fd4f",
   "metadata": {},
   "outputs": [],
   "source": [
    "ps_df2.to_csv(\"all_player_stats_1996-2025.csv\", index = False)"
   ]
  },
  {
   "cell_type": "markdown",
   "id": "52e2c97c",
   "metadata": {},
   "source": [
    "team data"
   ]
  },
  {
   "cell_type": "code",
   "execution_count": 3,
   "id": "b4a27e06",
   "metadata": {},
   "outputs": [],
   "source": [
    "ps_df = pd.read_csv('all_team_stats_1996-2025.csv')"
   ]
  },
  {
   "cell_type": "code",
   "execution_count": 4,
   "id": "284d3de2",
   "metadata": {},
   "outputs": [],
   "source": [
    "ps_df2 = ps_df[['SEASON', 'TEAM_ID', 'TEAM_NAME', 'W', 'L', 'FGM', 'FGA', 'FG_PCT', 'FG3M', 'FG3A', 'FG3_PCT', 'FTM', 'FTA', 'FT_PCT', 'REB', 'AST', 'STL', 'BLK', 'PTS']]"
   ]
  },
  {
   "cell_type": "code",
   "execution_count": 7,
   "id": "0f00b09c",
   "metadata": {},
   "outputs": [],
   "source": [
    "ps_df2.to_csv(\"all_team_stats_1996-2025.csv\", index = False)"
   ]
  }
 ],
 "metadata": {
  "kernelspec": {
   "display_name": "Python 3",
   "language": "python",
   "name": "python3"
  },
  "language_info": {
   "codemirror_mode": {
    "name": "ipython",
    "version": 3
   },
   "file_extension": ".py",
   "mimetype": "text/x-python",
   "name": "python",
   "nbconvert_exporter": "python",
   "pygments_lexer": "ipython3",
   "version": "3.13.9"
  }
 },
 "nbformat": 4,
 "nbformat_minor": 5
}
