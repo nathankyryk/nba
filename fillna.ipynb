{
 "cells": [
  {
   "cell_type": "code",
   "execution_count": 6,
   "id": "ea51079c",
   "metadata": {},
   "outputs": [],
   "source": [
    "import pandas as pd"
   ]
  },
  {
   "cell_type": "markdown",
   "id": "18fd0163",
   "metadata": {},
   "source": [
    "converting heights to inches\n",
    "this will likely be used for convenience when I do imputation"
   ]
  },
  {
   "cell_type": "code",
   "execution_count": 8,
   "id": "b3a6a56a",
   "metadata": {},
   "outputs": [],
   "source": [
    "ps_df = pd.read_csv('all_player_stats_1996-2025.csv')"
   ]
  },
  {
   "cell_type": "code",
   "execution_count": 9,
   "id": "aa26f922",
   "metadata": {},
   "outputs": [],
   "source": [
    "def height_to_inches(height):\n",
    "    if pd.isna(height):\n",
    "        return None\n",
    "    else:\n",
    "        feet, inches = map(int, height.split('-'))\n",
    "        return feet * 12 + inches"
   ]
  },
  {
   "cell_type": "code",
   "execution_count": 10,
   "id": "57a1763a",
   "metadata": {},
   "outputs": [],
   "source": [
    "ps_df['HEIGHT_INCHES'] = ps_df['HEIGHT'].apply(height_to_inches)\n",
    "ps_df['HEIGHT_INCHES'] = ps_df['HEIGHT_INCHES'].fillna(ps_df.groupby('POSITION')['HEIGHT_INCHES'].transform('mean').round(0))"
   ]
  },
  {
   "cell_type": "code",
   "execution_count": 11,
   "id": "9d813cca",
   "metadata": {},
   "outputs": [],
   "source": [
    "ps_df['WEIGHT'] = ps_df['WEIGHT'].fillna(ps_df.groupby('POSITION')['WEIGHT'].transform('mean').round(0))"
   ]
  },
  {
   "cell_type": "code",
   "execution_count": 13,
   "id": "2bc2fd4f",
   "metadata": {},
   "outputs": [],
   "source": [
    "ps_df.to_csv(\"all_player_stats_1996-2025.csv\")"
   ]
  }
 ],
 "metadata": {
  "kernelspec": {
   "display_name": "Python 3",
   "language": "python",
   "name": "python3"
  },
  "language_info": {
   "codemirror_mode": {
    "name": "ipython",
    "version": 3
   },
   "file_extension": ".py",
   "mimetype": "text/x-python",
   "name": "python",
   "nbconvert_exporter": "python",
   "pygments_lexer": "ipython3",
   "version": "3.13.9"
  }
 },
 "nbformat": 4,
 "nbformat_minor": 5
}
