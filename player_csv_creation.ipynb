{
 "cells": [
  {
   "cell_type": "code",
   "execution_count": 10,
   "id": "525c3961",
   "metadata": {},
   "outputs": [],
   "source": [
    "import time\n",
    "from nba_api.stats.endpoints import LeagueDashPlayerStats\n",
    "import pandas as pd"
   ]
  },
  {
   "cell_type": "code",
   "execution_count": 17,
   "id": "c7c66186",
   "metadata": {},
   "outputs": [
    {
     "name": "stdout",
     "output_type": "stream",
     "text": [
      "Working on year: 1980-81\n",
      "Working on year: 1981-82\n",
      "Working on year: 1982-83\n",
      "Working on year: 1983-84\n",
      "Working on year: 1984-85\n",
      "Working on year: 1985-86\n",
      "Working on year: 1986-87\n",
      "Working on year: 1987-88\n",
      "Working on year: 1988-89\n",
      "Working on year: 1989-90\n",
      "Working on year: 1990-91\n",
      "Working on year: 1991-92\n",
      "Working on year: 1992-93\n",
      "Working on year: 1993-94\n",
      "Working on year: 1994-95\n",
      "Working on year: 1995-96\n",
      "Working on year: 1996-97\n",
      "Working on year: 1997-98\n",
      "Working on year: 1998-99\n",
      "Working on year: 1999-00\n",
      "Working on year: 2000-01\n",
      "Working on year: 2001-02\n",
      "Working on year: 2002-03\n",
      "Working on year: 2003-04\n",
      "Working on year: 2004-05\n",
      "Working on year: 2005-06\n",
      "Working on year: 2006-07\n",
      "Working on year: 2007-08\n",
      "Working on year: 2008-09\n",
      "Working on year: 2009-10\n",
      "Working on year: 2010-11\n",
      "Working on year: 2011-12\n",
      "Working on year: 2012-13\n",
      "Working on year: 2013-14\n",
      "Working on year: 2014-15\n",
      "Working on year: 2015-16\n",
      "Working on year: 2016-17\n",
      "Working on year: 2017-18\n",
      "Working on year: 2018-19\n",
      "Working on year: 2019-20\n",
      "Working on year: 2020-21\n",
      "Working on year: 2021-22\n",
      "Working on year: 2022-23\n",
      "Working on year: 2023-24\n",
      "Working on year: 2024-25\n"
     ]
    }
   ],
   "source": [
    "all_stats = [] # will be iteratively appended to\n",
    "for year in range(1980, 2025): # approx 4.5 min to run\n",
    "    season_str = f\"{year}-{str(year + 1)[2:]}\" # seasons in api are formatted '1980-81' and so on\n",
    "    print(f\"Working on year: {season_str}\")\n",
    "    try:\n",
    "        data = LeagueDashPlayerStats(\n",
    "            season = season_str,\n",
    "            season_type_all_star = \"Regular Season\",\n",
    "            per_mode_detailed = \"PerGame\",\n",
    "            league_id_nullable = \"00\"\n",
    "        ).get_data_frames()\n",
    "        season_df = data[0]\n",
    "        season_df[\"SEASON\"] = season_str\n",
    "        all_stats.append(season_df)\n",
    "    except Exception as e:\n",
    "        print(f\"Error on season: {season_str}\")\n",
    "    time.sleep(0.8)"
   ]
  },
  {
   "cell_type": "code",
   "execution_count": 21,
   "id": "48bfbc9d",
   "metadata": {},
   "outputs": [
    {
     "name": "stderr",
     "output_type": "stream",
     "text": [
      "C:\\Users\\Nathan\\AppData\\Local\\Temp\\ipykernel_19644\\1726587761.py:1: FutureWarning: The behavior of DataFrame concatenation with empty or all-NA entries is deprecated. In a future version, this will no longer exclude empty or all-NA columns when determining the result dtypes. To retain the old behavior, exclude the relevant entries before the concat operation.\n",
      "  pd_stats = pd.concat(all_stats, ignore_index = True)\n"
     ]
    }
   ],
   "source": [
    "pd_stats = pd.concat(all_stats, ignore_index = True)\n",
    "pd_stats_final = pd_stats[pd_stats['MIN'] >= 20.0].copy() # filter so all minute averages >= 20\n",
    "pd_stats_final = pd_stats_final[['SEASON'] + [column for column in pd_stats_final if column != 'SEASON']] # put season first\n",
    "pd_stats_final.to_csv(\"all_player_stats_1980-2025.csv\", index = False)"
   ]
  }
 ],
 "metadata": {
  "kernelspec": {
   "display_name": "Python 3",
   "language": "python",
   "name": "python3"
  },
  "language_info": {
   "codemirror_mode": {
    "name": "ipython",
    "version": 3
   },
   "file_extension": ".py",
   "mimetype": "text/x-python",
   "name": "python",
   "nbconvert_exporter": "python",
   "pygments_lexer": "ipython3",
   "version": "3.13.8"
  }
 },
 "nbformat": 4,
 "nbformat_minor": 5
}
